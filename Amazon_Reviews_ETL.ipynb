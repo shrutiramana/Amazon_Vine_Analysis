{
  "nbformat": 4,
  "nbformat_minor": 0,
  "metadata": {
    "colab": {
      "name": "Amazon_Reviews_ETL.ipynb",
      "provenance": [],
      "collapsed_sections": []
    },
    "kernelspec": {
      "name": "python3",
      "display_name": "Python 3"
    },
    "nteract": {
      "version": "0.12.3"
    },
    "language_info": {
      "name": "python"
    }
  },
  "cells": [
    {
      "cell_type": "code",
      "metadata": {
        "id": "V58rxea0HqSa",
        "colab": {
          "base_uri": "https://localhost:8080/"
        },
        "outputId": "e9faeb02-9e1b-4b94-a03e-212ae4a7db58"
      },
      "source": [
        "import os\n",
        "# Find the latest version of spark 3.0 from http://www.apache.org/dist/spark/ and enter as the spark version\n",
        "# For example:\n",
        "# spark_version = 'spark-3.0.3'\n",
        "spark_version = 'spark-3.2.2'\n",
        "os.environ['SPARK_VERSION']=spark_version\n",
        "\n",
        "# Install Spark and Java\n",
        "!apt-get update\n",
        "!apt-get install openjdk-11-jdk-headless -qq > /dev/null\n",
        "!wget -q http://www.apache.org/dist/spark/$SPARK_VERSION/$SPARK_VERSION-bin-hadoop2.7.tgz\n",
        "!tar xf $SPARK_VERSION-bin-hadoop2.7.tgz\n",
        "!pip install -q findspark\n",
        "\n",
        "# Set Environment Variables\n",
        "import os\n",
        "os.environ[\"JAVA_HOME\"] = \"/usr/lib/jvm/java-11-openjdk-amd64\"\n",
        "os.environ[\"SPARK_HOME\"] = f\"/content/{spark_version}-bin-hadoop2.7\"\n",
        "\n",
        "# Start a SparkSession\n",
        "import findspark\n",
        "findspark.init()"
      ],
      "execution_count": 3,
      "outputs": [
        {
          "output_type": "stream",
          "name": "stdout",
          "text": [
            "\r0% [Working]\r            \rGet:1 https://developer.download.nvidia.com/compute/cuda/repos/ubuntu1804/x86_64  InRelease [1,581 B]\n",
            "\r0% [Connecting to archive.ubuntu.com (185.125.190.39)] [Connecting to security.\r0% [Connecting to archive.ubuntu.com (185.125.190.39)] [Connecting to security.\r                                                                               \rIgn:2 https://developer.download.nvidia.com/compute/machine-learning/repos/ubuntu1804/x86_64  InRelease\n",
            "Hit:3 https://developer.download.nvidia.com/compute/machine-learning/repos/ubuntu1804/x86_64  Release\n",
            "Hit:4 http://archive.ubuntu.com/ubuntu bionic InRelease\n",
            "Get:5 http://security.ubuntu.com/ubuntu bionic-security InRelease [88.7 kB]\n",
            "Get:6 https://developer.download.nvidia.com/compute/cuda/repos/ubuntu1804/x86_64  Packages [886 kB]\n",
            "Get:7 http://archive.ubuntu.com/ubuntu bionic-updates InRelease [88.7 kB]\n",
            "Hit:8 http://ppa.launchpad.net/c2d4u.team/c2d4u4.0+/ubuntu bionic InRelease\n",
            "Hit:9 https://cloud.r-project.org/bin/linux/ubuntu bionic-cran40/ InRelease\n",
            "Hit:11 http://ppa.launchpad.net/cran/libgit2/ubuntu bionic InRelease\n",
            "Get:12 http://archive.ubuntu.com/ubuntu bionic-backports InRelease [74.6 kB]\n",
            "Hit:13 http://ppa.launchpad.net/deadsnakes/ppa/ubuntu bionic InRelease\n",
            "Hit:14 http://ppa.launchpad.net/graphics-drivers/ppa/ubuntu bionic InRelease\n",
            "Get:15 http://archive.ubuntu.com/ubuntu bionic-updates/multiverse amd64 Packages [29.9 kB]\n",
            "Get:16 http://archive.ubuntu.com/ubuntu bionic-updates/restricted amd64 Packages [1,109 kB]\n",
            "Fetched 2,278 kB in 4s (644 kB/s)\n",
            "Reading package lists... Done\n"
          ]
        }
      ]
    },
    {
      "cell_type": "code",
      "metadata": {
        "id": "_xKwTpATHqSe",
        "colab": {
          "base_uri": "https://localhost:8080/"
        },
        "outputId": "7d2dcef8-68bd-49fe-f407-738292a1e0af"
      },
      "source": [
        "# Download the Postgres driver that will allow Spark to interact with Postgres.\n",
        "!wget https://jdbc.postgresql.org/download/postgresql-42.2.16.jar"
      ],
      "execution_count": 4,
      "outputs": [
        {
          "output_type": "stream",
          "name": "stdout",
          "text": [
            "--2022-08-03 00:50:32--  https://jdbc.postgresql.org/download/postgresql-42.2.16.jar\n",
            "Resolving jdbc.postgresql.org (jdbc.postgresql.org)... 72.32.157.228, 2001:4800:3e1:1::228\n",
            "Connecting to jdbc.postgresql.org (jdbc.postgresql.org)|72.32.157.228|:443... connected.\n",
            "HTTP request sent, awaiting response... 200 OK\n",
            "Length: 1002883 (979K) [application/java-archive]\n",
            "Saving to: ‘postgresql-42.2.16.jar.1’\n",
            "\n",
            "postgresql-42.2.16. 100%[===================>] 979.38K  3.16MB/s    in 0.3s    \n",
            "\n",
            "2022-08-03 00:50:33 (3.16 MB/s) - ‘postgresql-42.2.16.jar.1’ saved [1002883/1002883]\n",
            "\n"
          ]
        }
      ]
    },
    {
      "cell_type": "code",
      "metadata": {
        "id": "MMqDAjVS0KN9"
      },
      "source": [
        "from pyspark.sql import SparkSession\n",
        "spark = SparkSession.builder.appName(\"M16-Amazon-Challenge\").config(\"spark.driver.extraClassPath\",\"/content/postgresql-42.2.16.jar\").getOrCreate()"
      ],
      "execution_count": 5,
      "outputs": []
    },
    {
      "cell_type": "markdown",
      "metadata": {
        "id": "cyBsySGuY-9V"
      },
      "source": [
        "### Load Amazon Data into Spark DataFrame"
      ]
    },
    {
      "cell_type": "code",
      "metadata": {
        "id": "CtCmBhQJY-9Z",
        "colab": {
          "base_uri": "https://localhost:8080/"
        },
        "outputId": "05579617-b0f7-4d36-c0e5-a7cbce169235"
      },
      "source": [
        "from pyspark import SparkFiles\n",
        "url = \"https://s3.amazonaws.com/amazon-reviews-pds/tsv/amazon_reviews_multilingual_US_v1_00.tsv.gz\"\n",
        "spark.sparkContext.addFile(url)\n",
        "df = spark.read.option(\"encoding\", \"UTF-8\").csv(SparkFiles.get(\"\"), sep=\"\\t\", header=True, inferSchema=True)\n",
        "df.show()\n"
      ],
      "execution_count": 6,
      "outputs": [
        {
          "output_type": "stream",
          "name": "stdout",
          "text": [
            "+-----------+-----------+--------------+----------+--------------+--------------------+----------------+-----------+-------------+-----------+----+-----------------+--------------------+--------------------+-----------+\n",
            "|marketplace|customer_id|     review_id|product_id|product_parent|       product_title|product_category|star_rating|helpful_votes|total_votes|vine|verified_purchase|     review_headline|         review_body|review_date|\n",
            "+-----------+-----------+--------------+----------+--------------+--------------------+----------------+-----------+-------------+-----------+----+-----------------+--------------------+--------------------+-----------+\n",
            "|         US|   53096384| R63J84G1LOX6R|1563890119|     763187671|The Sandman Vol. ...|           Books|          4|            0|          1|   N|                N|ignore the review...|this is the first...| 1995-08-13|\n",
            "|         US|   53096399|R1BALOA11Z06MT|1559947608|     381720534|The 22 Immutable ...|           Books|          4|            0|          0|   N|                N|             awesome|I've always been ...| 1995-08-17|\n",
            "|         US|   53096332|R1LLAY5W5PZUS4|0671701800|     860650224|             Contact|           Books|          5|            1|          2|   N|                N|Read the book. It...|This is a book ab...| 1995-08-30|\n",
            "|         US|   53096335|R3R9VTJ82FXECQ|0425132153|     624269601|          Good Omens|           Books|          5|            0|          0|   N|                N|Funniest book eve...|This is quite pos...| 1995-09-11|\n",
            "|         US|   51747709|R1P5J3FNBWTFXY|0517122707|     161411385|A Confederacy of ...|           Books|          5|            0|          0|   N|                N|A winner that did...|The story behind ...| 1995-10-17|\n",
            "|         US|   53095881|R2XQTCOBWNCEAC|0345350499|     627223385| The Mists of Avalon|           Books|          5|            0|          0|   N|                N|One of the best b...|Marion Zimmer Bra...| 1995-11-02|\n",
            "|         US|   53096485|  R87VUTMFOE6N|B000002OTL|     877615083|Pulp Fiction: Mus...|           Music|          5|            0|          1|   N|                N|Pulp Fiction Soun...|Pulp Fiction the ...| 1995-11-11|\n",
            "|         US|   53096485| RVS529AN21RR3|6302136105|     701401373|     The Doors [VHS]|           Video|          5|            1|          2|   N|                N|The Doors: The be...|The Doors is one ...| 1995-11-11|\n",
            "|         US|   53095748| RG6LPC4W8LN29|0399134204|      31287929|   The Joy Luck Club|           Books|          5|            0|          1|   N|                N|Gives a deeper un...|The book in some ...| 1995-11-15|\n",
            "|         US|   53071277| RDFIE1IF0IYFH|0887306667|     381720534|The 22 Immutable ...|           Books|          5|            0|          0|   N|                N|One of the best m...|This book is a fa...| 1996-05-12|\n",
            "|         US|   53092169|R118UFZDTS9K8P|044022165X|     511419057|       The Rainmaker|           Books|          5|            2|          2|   N|                N|A definite page t...|John Grisham's Th...| 1996-05-15|\n",
            "|         US|   53091057|R3M7XTU4Y95NV6|0425107469|      50861192|            Watchers|           Books|          5|            1|          2|   N|                N|The best book tha...|This was my first...| 1996-05-17|\n",
            "|         US|   53092180|R1KLWU5B78FKDR|0880389052|     243097701|Homeland (Forgott...|           Books|          5|            1|          1|   N|                N|Homeland is the b...|I usually don't l...| 1996-05-17|\n",
            "|         US|   53068480|R1BGW1GTUGJZXJ|0446310786|     994527755|To Kill a Mocking...|           Books|          5|            0|          1|   N|                N|Extraordinary sto...|On the surface, f...| 1996-05-18|\n",
            "|         US|   53092058| R5UI1Q87QAZKH|0385040199|     636860937|Anne Frank: Diary...|           Books|          5|            1|          1|   N|                N|How do you review...|How do you review...| 1996-05-19|\n",
            "|         US|   52152881| R4X9DR0KSYFXD|B000001FBU|     880908728|Creatures of the ...|           Music|          4|            1|          1|   N|                N|Kiss' return to h...|After briefly vis...| 1996-05-20|\n",
            "|         US|   53091884|R1TOE3LHCXE3DO|0679731377|      62087535|A History of the ...|           Books|          5|            0|          0|   N|                N|The best book I'v...|Barnes is a true ...| 1996-05-21|\n",
            "|         US|   53093609|R3IME3JO53P3EM|0451169514|     380266608|                  It|           Books|          5|            1|          1|   N|                N|One of Stephen Ki...|I have to say, th...| 1996-05-22|\n",
            "|         US|   53081592| R63DTB2NEMWYE|0316920045|     669738240|Infinite Jest: A ...|           Books|          5|            0|          1|   N|                N|Infinite Jest: I'...|I've been waiting...| 1996-05-23|\n",
            "|         US|   52510867|R1PY156QM1IKZN|0451175123|     594264062|The Fountainhead:...|           Books|          5|            0|          0|   N|                N|Powerful work of ...|Ayn Rand was the ...| 1996-05-23|\n",
            "+-----------+-----------+--------------+----------+--------------+--------------------+----------------+-----------+-------------+-----------+----+-----------------+--------------------+--------------------+-----------+\n",
            "only showing top 20 rows\n",
            "\n"
          ]
        }
      ]
    },
    {
      "cell_type": "markdown",
      "metadata": {
        "id": "2yUSe55VY-9t"
      },
      "source": [
        "### Create DataFrames to match tables"
      ]
    },
    {
      "cell_type": "code",
      "metadata": {
        "id": "C8REmY1aY-9u",
        "colab": {
          "base_uri": "https://localhost:8080/"
        },
        "outputId": "dda9c5b8-4ffd-4242-ce8c-b9c6955cc403"
      },
      "source": [
        "from pyspark.sql.functions import to_date\n",
        "# Read in the Review dataset as a DataFrame\n",
        "df.show()"
      ],
      "execution_count": 7,
      "outputs": [
        {
          "output_type": "stream",
          "name": "stdout",
          "text": [
            "+-----------+-----------+--------------+----------+--------------+--------------------+----------------+-----------+-------------+-----------+----+-----------------+--------------------+--------------------+-----------+\n",
            "|marketplace|customer_id|     review_id|product_id|product_parent|       product_title|product_category|star_rating|helpful_votes|total_votes|vine|verified_purchase|     review_headline|         review_body|review_date|\n",
            "+-----------+-----------+--------------+----------+--------------+--------------------+----------------+-----------+-------------+-----------+----+-----------------+--------------------+--------------------+-----------+\n",
            "|         US|   53096384| R63J84G1LOX6R|1563890119|     763187671|The Sandman Vol. ...|           Books|          4|            0|          1|   N|                N|ignore the review...|this is the first...| 1995-08-13|\n",
            "|         US|   53096399|R1BALOA11Z06MT|1559947608|     381720534|The 22 Immutable ...|           Books|          4|            0|          0|   N|                N|             awesome|I've always been ...| 1995-08-17|\n",
            "|         US|   53096332|R1LLAY5W5PZUS4|0671701800|     860650224|             Contact|           Books|          5|            1|          2|   N|                N|Read the book. It...|This is a book ab...| 1995-08-30|\n",
            "|         US|   53096335|R3R9VTJ82FXECQ|0425132153|     624269601|          Good Omens|           Books|          5|            0|          0|   N|                N|Funniest book eve...|This is quite pos...| 1995-09-11|\n",
            "|         US|   51747709|R1P5J3FNBWTFXY|0517122707|     161411385|A Confederacy of ...|           Books|          5|            0|          0|   N|                N|A winner that did...|The story behind ...| 1995-10-17|\n",
            "|         US|   53095881|R2XQTCOBWNCEAC|0345350499|     627223385| The Mists of Avalon|           Books|          5|            0|          0|   N|                N|One of the best b...|Marion Zimmer Bra...| 1995-11-02|\n",
            "|         US|   53096485|  R87VUTMFOE6N|B000002OTL|     877615083|Pulp Fiction: Mus...|           Music|          5|            0|          1|   N|                N|Pulp Fiction Soun...|Pulp Fiction the ...| 1995-11-11|\n",
            "|         US|   53096485| RVS529AN21RR3|6302136105|     701401373|     The Doors [VHS]|           Video|          5|            1|          2|   N|                N|The Doors: The be...|The Doors is one ...| 1995-11-11|\n",
            "|         US|   53095748| RG6LPC4W8LN29|0399134204|      31287929|   The Joy Luck Club|           Books|          5|            0|          1|   N|                N|Gives a deeper un...|The book in some ...| 1995-11-15|\n",
            "|         US|   53071277| RDFIE1IF0IYFH|0887306667|     381720534|The 22 Immutable ...|           Books|          5|            0|          0|   N|                N|One of the best m...|This book is a fa...| 1996-05-12|\n",
            "|         US|   53092169|R118UFZDTS9K8P|044022165X|     511419057|       The Rainmaker|           Books|          5|            2|          2|   N|                N|A definite page t...|John Grisham's Th...| 1996-05-15|\n",
            "|         US|   53091057|R3M7XTU4Y95NV6|0425107469|      50861192|            Watchers|           Books|          5|            1|          2|   N|                N|The best book tha...|This was my first...| 1996-05-17|\n",
            "|         US|   53092180|R1KLWU5B78FKDR|0880389052|     243097701|Homeland (Forgott...|           Books|          5|            1|          1|   N|                N|Homeland is the b...|I usually don't l...| 1996-05-17|\n",
            "|         US|   53068480|R1BGW1GTUGJZXJ|0446310786|     994527755|To Kill a Mocking...|           Books|          5|            0|          1|   N|                N|Extraordinary sto...|On the surface, f...| 1996-05-18|\n",
            "|         US|   53092058| R5UI1Q87QAZKH|0385040199|     636860937|Anne Frank: Diary...|           Books|          5|            1|          1|   N|                N|How do you review...|How do you review...| 1996-05-19|\n",
            "|         US|   52152881| R4X9DR0KSYFXD|B000001FBU|     880908728|Creatures of the ...|           Music|          4|            1|          1|   N|                N|Kiss' return to h...|After briefly vis...| 1996-05-20|\n",
            "|         US|   53091884|R1TOE3LHCXE3DO|0679731377|      62087535|A History of the ...|           Books|          5|            0|          0|   N|                N|The best book I'v...|Barnes is a true ...| 1996-05-21|\n",
            "|         US|   53093609|R3IME3JO53P3EM|0451169514|     380266608|                  It|           Books|          5|            1|          1|   N|                N|One of Stephen Ki...|I have to say, th...| 1996-05-22|\n",
            "|         US|   53081592| R63DTB2NEMWYE|0316920045|     669738240|Infinite Jest: A ...|           Books|          5|            0|          1|   N|                N|Infinite Jest: I'...|I've been waiting...| 1996-05-23|\n",
            "|         US|   52510867|R1PY156QM1IKZN|0451175123|     594264062|The Fountainhead:...|           Books|          5|            0|          0|   N|                N|Powerful work of ...|Ayn Rand was the ...| 1996-05-23|\n",
            "+-----------+-----------+--------------+----------+--------------+--------------------+----------------+-----------+-------------+-----------+----+-----------------+--------------------+--------------------+-----------+\n",
            "only showing top 20 rows\n",
            "\n"
          ]
        }
      ]
    },
    {
      "cell_type": "code",
      "metadata": {
        "id": "B0TESUDRY-90",
        "colab": {
          "base_uri": "https://localhost:8080/"
        },
        "outputId": "0ffe5223-06bd-4cf4-8074-da5d89212fe6"
      },
      "source": [
        "# Create the customers_table DataFrame\n",
        "#customers_df = df.groupby(\"customer_id\").agg({\"customer_id\":\"count\"}).show()\n",
        "customers_df = df.groupby(\"customer_id\").agg({\"customer_id\":\"count\"}).withColumnRenamed(\"count(customer_id)\", \"customer_count\")\n",
        "customers_df.show()"
      ],
      "execution_count": 8,
      "outputs": [
        {
          "output_type": "stream",
          "name": "stdout",
          "text": [
            "+-----------+--------------+\n",
            "|customer_id|customer_count|\n",
            "+-----------+--------------+\n",
            "|   53057286|             1|\n",
            "|   51664859|             1|\n",
            "|   52663128|             1|\n",
            "|   53026749|             1|\n",
            "|   51401944|             1|\n",
            "|   52874649|             1|\n",
            "|   52997467|             1|\n",
            "|   53038996|             1|\n",
            "|   52136665|             1|\n",
            "|   52904709|            15|\n",
            "|   52820725|             1|\n",
            "|   53018387|             2|\n",
            "|   52764626|             1|\n",
            "|   52669743|             1|\n",
            "|   52316932|             1|\n",
            "|   52450694|             1|\n",
            "|   52686300|             1|\n",
            "|   51202275|             2|\n",
            "|   52778859|             1|\n",
            "|   52832889|             1|\n",
            "+-----------+--------------+\n",
            "only showing top 20 rows\n",
            "\n"
          ]
        }
      ]
    },
    {
      "cell_type": "code",
      "metadata": {
        "id": "4FwXA6UvY-96",
        "colab": {
          "base_uri": "https://localhost:8080/"
        },
        "outputId": "d038a0a2-3da9-4513-dac8-fffd443757f0"
      },
      "source": [
        "# Create the products_table DataFrame and drop duplicates. \n",
        "products_df = df.select([\"product_id\",\"product_title\"]).drop_duplicates()\n",
        "products_df.show(truncate=False)"
      ],
      "execution_count": 9,
      "outputs": [
        {
          "output_type": "stream",
          "name": "stdout",
          "text": [
            "+----------+------------------------------------------------------------+\n",
            "|product_id|product_title                                               |\n",
            "+----------+------------------------------------------------------------+\n",
            "|0060920432|Flow: The Psychology of Optimal Experience                  |\n",
            "|1568495722|The Prize                                                   |\n",
            "|0140072187|Chickenhawk                                                 |\n",
            "|0060801263|A Tree Grows in Brooklyn                                    |\n",
            "|0783216084|Jaws [VHS]                                                  |\n",
            "|B000002UDB|Magical Mystery Tour                                        |\n",
            "|B000002GA8|Journey to the Centre of the Earth                          |\n",
            "|B000002NBY|Graceland                                                   |\n",
            "|B000001BZT|Copperhead Road                                             |\n",
            "|B000002A46|Merry Christmas                                             |\n",
            "|0767811038|Starship Troopers [VHS]                                     |\n",
            "|B000002O5L|Full Moon Fever                                             |\n",
            "|B000007MVM|The Madcap Laughs                                           |\n",
            "|0767827015|Boyz N the Hood [VHS]                                       |\n",
            "|0684867621|The Girl Who Loved Tom Gordon : A Novel                     |\n",
            "|B00000IQW3|The Last Starfighter  (Widescreen Collector's Edition)      |\n",
            "|B00000IMCW|Dawn of the Dead - U.S. Theatrical Cut (Anniversary Edition)|\n",
            "|B00000IQUT|I Spit on Your Grave (Collector's Edition) [VHS]            |\n",
            "|0767805690|Gattaca [VHS]                                               |\n",
            "|1573227978|The Beach                                                   |\n",
            "+----------+------------------------------------------------------------+\n",
            "only showing top 20 rows\n",
            "\n"
          ]
        }
      ]
    },
    {
      "cell_type": "code",
      "metadata": {
        "id": "MkqyCuNQY-9-",
        "colab": {
          "base_uri": "https://localhost:8080/"
        },
        "outputId": "99be2a54-6a4b-43eb-8946-d377ff726da9"
      },
      "source": [
        "# Create the review_id_table DataFrame. \n",
        "# Convert the 'review_date' column to a date datatype with to_date(\"review_date\", 'yyyy-MM-dd').alias(\"review_date\")\n",
        "review_id_df = df.select([\"review_id\",\"customer_id\",\"product_id\",\"product_parent\",to_date(\"review_date\", 'yyyy-MM-dd').alias(\"review_date\")])\n",
        "review_id_df.show()"
      ],
      "execution_count": 10,
      "outputs": [
        {
          "output_type": "stream",
          "name": "stdout",
          "text": [
            "+--------------+-----------+----------+--------------+-----------+\n",
            "|     review_id|customer_id|product_id|product_parent|review_date|\n",
            "+--------------+-----------+----------+--------------+-----------+\n",
            "| R63J84G1LOX6R|   53096384|1563890119|     763187671| 1995-08-13|\n",
            "|R1BALOA11Z06MT|   53096399|1559947608|     381720534| 1995-08-17|\n",
            "|R1LLAY5W5PZUS4|   53096332|0671701800|     860650224| 1995-08-30|\n",
            "|R3R9VTJ82FXECQ|   53096335|0425132153|     624269601| 1995-09-11|\n",
            "|R1P5J3FNBWTFXY|   51747709|0517122707|     161411385| 1995-10-17|\n",
            "|R2XQTCOBWNCEAC|   53095881|0345350499|     627223385| 1995-11-02|\n",
            "|  R87VUTMFOE6N|   53096485|B000002OTL|     877615083| 1995-11-11|\n",
            "| RVS529AN21RR3|   53096485|6302136105|     701401373| 1995-11-11|\n",
            "| RG6LPC4W8LN29|   53095748|0399134204|      31287929| 1995-11-15|\n",
            "| RDFIE1IF0IYFH|   53071277|0887306667|     381720534| 1996-05-12|\n",
            "|R118UFZDTS9K8P|   53092169|044022165X|     511419057| 1996-05-15|\n",
            "|R3M7XTU4Y95NV6|   53091057|0425107469|      50861192| 1996-05-17|\n",
            "|R1KLWU5B78FKDR|   53092180|0880389052|     243097701| 1996-05-17|\n",
            "|R1BGW1GTUGJZXJ|   53068480|0446310786|     994527755| 1996-05-18|\n",
            "| R5UI1Q87QAZKH|   53092058|0385040199|     636860937| 1996-05-19|\n",
            "| R4X9DR0KSYFXD|   52152881|B000001FBU|     880908728| 1996-05-20|\n",
            "|R1TOE3LHCXE3DO|   53091884|0679731377|      62087535| 1996-05-21|\n",
            "|R3IME3JO53P3EM|   53093609|0451169514|     380266608| 1996-05-22|\n",
            "| R63DTB2NEMWYE|   53081592|0316920045|     669738240| 1996-05-23|\n",
            "|R1PY156QM1IKZN|   52510867|0451175123|     594264062| 1996-05-23|\n",
            "+--------------+-----------+----------+--------------+-----------+\n",
            "only showing top 20 rows\n",
            "\n"
          ]
        }
      ]
    },
    {
      "cell_type": "code",
      "metadata": {
        "id": "lzMmkdKmY--D",
        "colab": {
          "base_uri": "https://localhost:8080/"
        },
        "outputId": "d25cfced-520b-469f-b438-26dd3e4696d3"
      },
      "source": [
        "# Create the vine_table. DataFrame\n",
        "vine_df = df.select([\"review_id\",\"star_rating\",\"helpful_votes\",\"total_votes\",\"vine\",\"verified_purchase\"])\n",
        "vine_df.show()"
      ],
      "execution_count": 11,
      "outputs": [
        {
          "output_type": "stream",
          "name": "stdout",
          "text": [
            "+--------------+-----------+-------------+-----------+----+-----------------+\n",
            "|     review_id|star_rating|helpful_votes|total_votes|vine|verified_purchase|\n",
            "+--------------+-----------+-------------+-----------+----+-----------------+\n",
            "| R63J84G1LOX6R|          4|            0|          1|   N|                N|\n",
            "|R1BALOA11Z06MT|          4|            0|          0|   N|                N|\n",
            "|R1LLAY5W5PZUS4|          5|            1|          2|   N|                N|\n",
            "|R3R9VTJ82FXECQ|          5|            0|          0|   N|                N|\n",
            "|R1P5J3FNBWTFXY|          5|            0|          0|   N|                N|\n",
            "|R2XQTCOBWNCEAC|          5|            0|          0|   N|                N|\n",
            "|  R87VUTMFOE6N|          5|            0|          1|   N|                N|\n",
            "| RVS529AN21RR3|          5|            1|          2|   N|                N|\n",
            "| RG6LPC4W8LN29|          5|            0|          1|   N|                N|\n",
            "| RDFIE1IF0IYFH|          5|            0|          0|   N|                N|\n",
            "|R118UFZDTS9K8P|          5|            2|          2|   N|                N|\n",
            "|R3M7XTU4Y95NV6|          5|            1|          2|   N|                N|\n",
            "|R1KLWU5B78FKDR|          5|            1|          1|   N|                N|\n",
            "|R1BGW1GTUGJZXJ|          5|            0|          1|   N|                N|\n",
            "| R5UI1Q87QAZKH|          5|            1|          1|   N|                N|\n",
            "| R4X9DR0KSYFXD|          4|            1|          1|   N|                N|\n",
            "|R1TOE3LHCXE3DO|          5|            0|          0|   N|                N|\n",
            "|R3IME3JO53P3EM|          5|            1|          1|   N|                N|\n",
            "| R63DTB2NEMWYE|          5|            0|          1|   N|                N|\n",
            "|R1PY156QM1IKZN|          5|            0|          0|   N|                N|\n",
            "+--------------+-----------+-------------+-----------+----+-----------------+\n",
            "only showing top 20 rows\n",
            "\n"
          ]
        }
      ]
    },
    {
      "cell_type": "markdown",
      "metadata": {
        "id": "jITZhLkmY--J"
      },
      "source": [
        "### Connect to the AWS RDS instance and write each DataFrame to its table. "
      ]
    },
    {
      "cell_type": "code",
      "metadata": {
        "id": "7jiUvs1aY--L",
        "colab": {
          "base_uri": "https://localhost:8080/"
        },
        "outputId": "63e5e4ec-c82a-4816-d20c-8d50c6421171"
      },
      "source": [
        "# Store environmental variable\n",
        "from getpass import getpass\n",
        "password = getpass('Enter database password')\n",
        "\n",
        "# Configure settings for RDS\n",
        "mode = \"append\"\n",
        "jdbc_url=\"jdbc:postgresql://dataviz.cboyetfcv23i.us-east-1.rds.amazonaws.com:5432/Challange_DB\"\n",
        "config = {\"user\":\"postgres\", \n",
        "          \"password\": password, \n",
        "          \"driver\":\"org.postgresql.Driver\"}"
      ],
      "execution_count": 12,
      "outputs": [
        {
          "name": "stdout",
          "output_type": "stream",
          "text": [
            "Enter database password··········\n"
          ]
        }
      ]
    },
    {
      "cell_type": "code",
      "source": [
        "review_id_df.count()"
      ],
      "metadata": {
        "colab": {
          "base_uri": "https://localhost:8080/"
        },
        "id": "7hU89DlN6kDu",
        "outputId": "86ff63e4-d6fb-485b-9d98-3829ca03ce60"
      },
      "execution_count": 13,
      "outputs": [
        {
          "output_type": "execute_result",
          "data": {
            "text/plain": [
              "6931166"
            ]
          },
          "metadata": {},
          "execution_count": 13
        }
      ]
    },
    {
      "cell_type": "code",
      "metadata": {
        "id": "T2zgZ-aKY--Q"
      },
      "source": [
        "# Write review_id_df to table in RDS\n",
        "review_id_df.write.jdbc(url=jdbc_url, table='review_id_table', mode=mode, properties=config)"
      ],
      "execution_count": null,
      "outputs": []
    },
    {
      "cell_type": "code",
      "metadata": {
        "id": "1m3yzn-LY--U"
      },
      "source": [
        "# Write products_df to table in RDS\n",
        "# about 3 min\n",
        "products_df.write.jdbc(url=jdbc_url, table='products_table', mode=mode, properties=config)"
      ],
      "execution_count": 27,
      "outputs": []
    },
    {
      "cell_type": "code",
      "source": [
        ""
      ],
      "metadata": {
        "id": "J1qgAx716g0r"
      },
      "execution_count": null,
      "outputs": []
    },
    {
      "cell_type": "code",
      "metadata": {
        "id": "KbXri15fY--Z"
      },
      "source": [
        "# Write customers_df to table in RDS\n",
        "# 5 min 14 s\n",
        "customers_df.write.jdbc(url=jdbc_url, table='customers_table', mode=mode, properties=config)"
      ],
      "execution_count": 28,
      "outputs": []
    },
    {
      "cell_type": "code",
      "metadata": {
        "id": "XdQknSHLY--e"
      },
      "source": [
        "# Write vine_df to table in RDS\n",
        "# 11 minutes\n",
        "vine_df.write.jdbc(url=jdbc_url, table='vine_table', mode=mode, properties=config)"
      ],
      "execution_count": 14,
      "outputs": []
    },
    {
      "cell_type": "code",
      "metadata": {
        "id": "Exuo6ebUsCqW"
      },
      "source": [
        ""
      ],
      "execution_count": null,
      "outputs": []
    }
  ]
}